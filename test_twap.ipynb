{
 "cells": [
  {
   "cell_type": "code",
   "execution_count": 1,
   "metadata": {},
   "outputs": [
    {
     "name": "stdout",
     "output_type": "stream",
     "text": [
      "MT5 successfully initialised.\n",
      "\n"
     ]
    }
   ],
   "source": [
    "import os\n",
    "import midas_touch2 as mt2\n",
    "import pandas as pd\n",
    "import numpy as np\n",
    "import MetaTrader5 as mt5\n",
    "import matplotlib.pyplot as plt\n",
    "import stock_mapping as sm\n",
    "import warnings\n",
    "import asyncio\n",
    "import twap\n",
    "import time\n",
    "import json\n",
    "import concurrent.futures\n",
    "from datetime import datetime, timedelta\n",
    "from class_mapping import StockSymbolMapper\n",
    "pd.options.display.max_columns = 100000\n",
    "warnings.filterwarnings('ignore')\n",
    "\n",
    "if not mt5.initialize():\n",
    "    print(\"initialize() failed\")\n",
    "else:\n",
    "    print(\"MT5 successfully initialised.\\n\")"
   ]
  },
  {
   "cell_type": "code",
   "execution_count": 2,
   "metadata": {},
   "outputs": [],
   "source": [
    "current_dir = os.getcwd()\n",
    "#current_path = os.path.abspath(__file__)\n",
    "#current_dir = os.path.dirname(current_path)\n",
    "config_file_name = 'config.json'\n",
    "config_file_path = os.path.join(current_dir, config_file_name)\n",
    "with open(config_file_path, 'r') as config_file:\n",
    "        config = json.load(config_file)\n",
    "\n",
    "symbols = config['symbols']\n",
    "api_token = config['api_token']\n",
    "mapping_file = config['mapping_file_path']\n",
    "sleep_time = config['sleep_time']\n",
    "account=config['execute_account']\n",
    "password=config['password']\n",
    "server=config['server']\n",
    "VaR = config['VaR']\n",
    "starting_cash = config['starting_cash']"
   ]
  },
  {
   "cell_type": "code",
   "execution_count": 3,
   "metadata": {},
   "outputs": [
    {
     "name": "stdout",
     "output_type": "stream",
     "text": [
      "AccountInfo(login=2117, trade_mode=0, leverage=1, limit_orders=0, margin_so_mode=0, trade_allowed=True, trade_expert=True, margin_mode=1, currency_digits=2, fifo_close=False, balance=999878529.36, credit=0.0, profit=-2768.0, equity=999878529.36, margin=30380.4, margin_free=999848148.96, margin_level=3291196.0650946004, margin_so_call=50.0, margin_so_so=30.0, margin_initial=30380.4, margin_maintenance=30380.4, assets=0.0, liabilities=0.0, commission_blocked=0.0, name='Jeff Ng', server='KIBB-Prod', currency='MYR', company='Kenanga Investment Bank Berhad')\n"
     ]
    }
   ],
   "source": [
    "authorized=mt5.login(account, password=password, server=server)\n",
    "if authorized:\n",
    "    print(mt5.account_info())\n",
    "else:\n",
    "    print(\"failed to connect at account #{}, error code: {}\".format(account, mt5.last_error()))\n"
   ]
  },
  {
   "cell_type": "code",
   "execution_count": 4,
   "metadata": {},
   "outputs": [
    {
     "name": "stdout",
     "output_type": "stream",
     "text": [
      "latest_weights: HLFG      -0.000000\n",
      "PBBANK     0.000000\n",
      "FFB        0.000000\n",
      "MAYBANK    0.293706\n",
      "MSM        0.000000\n",
      "HARTA      0.706294\n",
      "Name: 2023-12-01, dtype: float64\n"
     ]
    }
   ],
   "source": [
    "mt5_symbol = sm.get_ticker_list(symbols, file_path=mapping_file)\n",
    "symbols = [symbol + \"SE\" for symbol in symbols]\n",
    "price_df = mt2.download_stocks(symbols, \"d\", api_token, num_days=20)\n",
    "price_df = pd.DataFrame(price_df)\n",
    "price_df.columns = mt5_symbol\n",
    "weights_df, latest_weights = mt2.run_portfolio(price_df, alpha_n=5)\n",
    "print(f'latest_weights: {latest_weights}')\n",
    "#ADD DUMMY WEIGHTS HERE TO TEST\n",
    "total_investment = starting_cash\n",
    "previous_allocation_df = mt2.get_folder(folder_name='daily_allocation')\n",
    "previous_portfolio_df = mt2.get_folder(folder_name='daily_portfolio')"
   ]
  },
  {
   "cell_type": "code",
   "execution_count": 5,
   "metadata": {},
   "outputs": [
    {
     "name": "stdout",
     "output_type": "stream",
     "text": [
      "  Share Symbol  Share Price  Allocated Units   Weights  Holding Units  \\\n",
      "0         HLFG        16.48              0.0 -0.000000          400.0   \n",
      "1       PBBANK         4.32              0.0  0.000000         1400.0   \n",
      "2          FFB         1.39              0.0  0.000000        11400.0   \n",
      "3      MAYBANK         9.00           3200.0  0.293706         2600.0   \n",
      "4          MSM         1.46              0.0  0.000000         9400.0   \n",
      "5        HARTA         2.46          28700.0  0.706294        13300.0   \n",
      "\n",
      "   Entry Units  Exit Units  \n",
      "0          0.0       400.0  \n",
      "1          0.0      1400.0  \n",
      "2          0.0     11400.0  \n",
      "3        600.0         0.0  \n",
      "4          0.0      9400.0  \n",
      "5      15400.0         0.0  \n"
     ]
    }
   ],
   "source": [
    "if previous_allocation_df is not None and previous_portfolio_df is not None:\n",
    "    prev_holding = previous_allocation_df['Holding Units']\n",
    "    prev_entry = previous_allocation_df['Entry Units']\n",
    "    prev_exit = previous_allocation_df['Exit Units']\n",
    "    total_investment = abs(previous_portfolio_df['Total Value'].iloc[-1])\n",
    "    allocation_df = mt2.calculate_stock_allocation(total_investment, latest_weights, price_df)\n",
    "    allocation_df['Holding Units'] = prev_holding + prev_entry - prev_exit\n",
    "else: #first run\n",
    "    allocation_df = mt2.calculate_stock_allocation(total_investment, latest_weights, price_df)\n",
    "    print(\"This is the initial run. No previous allocation data available.\")\n",
    "    allocation_df['Holding Units'] = 0\n",
    "\n",
    "# Calculate Entry and Exit Units\n",
    "allocation_df['Entry Units'] = allocation_df.apply(\n",
    "    lambda row: max(row['Allocated Units'] - row['Holding Units'], 0), axis=1)\n",
    "allocation_df['Exit Units'] = allocation_df.apply(\n",
    "    lambda row: max(row['Holding Units'] - row['Allocated Units'], 0), axis=1)\n",
    "numeric_cols = allocation_df.select_dtypes(include=['number']).astype(float)\n",
    "for col in numeric_cols.columns:\n",
    "    allocation_df[col] = numeric_cols[col]\n",
    "print(allocation_df)"
   ]
  },
  {
   "cell_type": "code",
   "execution_count": 6,
   "metadata": {},
   "outputs": [
    {
     "name": "stdout",
     "output_type": "stream",
     "text": [
      "Placing exit order for HLFG\n",
      "The corresponding side of the order book does not exist to continue operation. Stop execution.\n",
      "Placing exit order for PBBANK\n",
      "The corresponding side of the order book does not exist to continue operation. Stop execution.\n",
      "Placing exit order for FFB\n",
      "The corresponding side of the order book does not exist to continue operation. Stop execution.\n",
      "Placing entry order for MAYBANK\n",
      "The corresponding side of the order book does not exist to continue operation. Stop execution.\n",
      "Placing exit order for MSM\n",
      "The corresponding side of the order book does not exist to continue operation. Stop execution.\n",
      "Placing entry order for HARTA\n",
      "The corresponding side of the order book does not exist to continue operation. Stop execution.\n"
     ]
    }
   ],
   "source": [
    "\n",
    "order_ids = mt2.execute_trades_from_data(allocation_df)"
   ]
  },
  {
   "cell_type": "code",
   "execution_count": 7,
   "metadata": {},
   "outputs": [
    {
     "data": {
      "text/html": [
       "<div>\n",
       "<style scoped>\n",
       "    .dataframe tbody tr th:only-of-type {\n",
       "        vertical-align: middle;\n",
       "    }\n",
       "\n",
       "    .dataframe tbody tr th {\n",
       "        vertical-align: top;\n",
       "    }\n",
       "\n",
       "    .dataframe thead th {\n",
       "        text-align: right;\n",
       "    }\n",
       "</style>\n",
       "<table border=\"1\" class=\"dataframe\">\n",
       "  <thead>\n",
       "    <tr style=\"text-align: right;\">\n",
       "      <th></th>\n",
       "      <th>Share Symbol</th>\n",
       "      <th>Share Price</th>\n",
       "      <th>Allocated Units</th>\n",
       "      <th>Weights</th>\n",
       "      <th>Holding Units</th>\n",
       "      <th>Entry Units</th>\n",
       "      <th>Exit Units</th>\n",
       "    </tr>\n",
       "  </thead>\n",
       "  <tbody>\n",
       "    <tr>\n",
       "      <th>0</th>\n",
       "      <td>HLFG</td>\n",
       "      <td>16.48</td>\n",
       "      <td>0.0</td>\n",
       "      <td>-0.000000</td>\n",
       "      <td>400.0</td>\n",
       "      <td>0.0</td>\n",
       "      <td>400.0</td>\n",
       "    </tr>\n",
       "    <tr>\n",
       "      <th>1</th>\n",
       "      <td>PBBANK</td>\n",
       "      <td>4.32</td>\n",
       "      <td>0.0</td>\n",
       "      <td>0.000000</td>\n",
       "      <td>1400.0</td>\n",
       "      <td>0.0</td>\n",
       "      <td>1400.0</td>\n",
       "    </tr>\n",
       "    <tr>\n",
       "      <th>2</th>\n",
       "      <td>FFB</td>\n",
       "      <td>1.39</td>\n",
       "      <td>0.0</td>\n",
       "      <td>0.000000</td>\n",
       "      <td>11400.0</td>\n",
       "      <td>0.0</td>\n",
       "      <td>11400.0</td>\n",
       "    </tr>\n",
       "    <tr>\n",
       "      <th>3</th>\n",
       "      <td>MAYBANK</td>\n",
       "      <td>9.00</td>\n",
       "      <td>3200.0</td>\n",
       "      <td>0.293706</td>\n",
       "      <td>2600.0</td>\n",
       "      <td>600.0</td>\n",
       "      <td>0.0</td>\n",
       "    </tr>\n",
       "    <tr>\n",
       "      <th>4</th>\n",
       "      <td>MSM</td>\n",
       "      <td>1.46</td>\n",
       "      <td>0.0</td>\n",
       "      <td>0.000000</td>\n",
       "      <td>9400.0</td>\n",
       "      <td>0.0</td>\n",
       "      <td>9400.0</td>\n",
       "    </tr>\n",
       "    <tr>\n",
       "      <th>5</th>\n",
       "      <td>HARTA</td>\n",
       "      <td>2.46</td>\n",
       "      <td>28700.0</td>\n",
       "      <td>0.706294</td>\n",
       "      <td>13300.0</td>\n",
       "      <td>15400.0</td>\n",
       "      <td>0.0</td>\n",
       "    </tr>\n",
       "  </tbody>\n",
       "</table>\n",
       "</div>"
      ],
      "text/plain": [
       "  Share Symbol  Share Price  Allocated Units   Weights  Holding Units  \\\n",
       "0         HLFG        16.48              0.0 -0.000000          400.0   \n",
       "1       PBBANK         4.32              0.0  0.000000         1400.0   \n",
       "2          FFB         1.39              0.0  0.000000        11400.0   \n",
       "3      MAYBANK         9.00           3200.0  0.293706         2600.0   \n",
       "4          MSM         1.46              0.0  0.000000         9400.0   \n",
       "5        HARTA         2.46          28700.0  0.706294        13300.0   \n",
       "\n",
       "   Entry Units  Exit Units  \n",
       "0          0.0       400.0  \n",
       "1          0.0      1400.0  \n",
       "2          0.0     11400.0  \n",
       "3        600.0         0.0  \n",
       "4          0.0      9400.0  \n",
       "5      15400.0         0.0  "
      ]
     },
     "execution_count": 7,
     "metadata": {},
     "output_type": "execute_result"
    }
   ],
   "source": [
    "allocation_df"
   ]
  },
  {
   "cell_type": "code",
   "execution_count": null,
   "metadata": {},
   "outputs": [],
   "source": []
  },
  {
   "cell_type": "code",
   "execution_count": null,
   "metadata": {},
   "outputs": [],
   "source": []
  }
 ],
 "metadata": {
  "kernelspec": {
   "display_name": ".venv",
   "language": "python",
   "name": "python3"
  },
  "language_info": {
   "codemirror_mode": {
    "name": "ipython",
    "version": 3
   },
   "file_extension": ".py",
   "mimetype": "text/x-python",
   "name": "python",
   "nbconvert_exporter": "python",
   "pygments_lexer": "ipython3",
   "version": "3.10.11"
  }
 },
 "nbformat": 4,
 "nbformat_minor": 2
}
