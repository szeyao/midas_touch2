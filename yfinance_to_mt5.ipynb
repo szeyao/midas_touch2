{
 "cells": [
  {
   "cell_type": "code",
   "execution_count": 21,
   "metadata": {},
   "outputs": [],
   "source": [
    "yfinance = ['5010.KL','6888.KL','2488.KL','5249.KL','5159.KL',\n",
    "            '1015.KL','5047.KL','5162.KL','7022.KL','1295.KL',\n",
    "            '6017.KL','7218.KL','0166.KL','7105.KL','4677.KL',\n",
    "            '5246.KL','5185.KL','5031.KL','7129.KL','5209.KL',\n",
    "            '9598.KL','7153.KL','5131.KL','3069.KL','7178.KL',\n",
    "            '5263.KL','6012.KL','5227.KL','5176.KL','5105.KL',\n",
    "            '6742.KL','5293.KL','5126.KL','7216.KL','2062.KL',\n",
    "            '5106.KL','5138.KL','5071.KL','5130.KL','7277.KL',\n",
    "            '5168.KL','7293.KL','9199.KL','5286.KL','7090.KL',\n",
    "            '6521.KL','5135.KL','7029.KL','5200.KL','3336.KL',\n",
    "            '5141.KL']\n",
    "\n",
    "mt5_symbol = ['TONGHER','AXIATA','ABMB','IOIPG','YOCB',\n",
    "              'AMBANK','NPC','VSTECS','GTRONIC','PBBANK',\n",
    "              'SHL','TOCEAN','INARI','HCK','YTL',\n",
    "              'WPRTS','AFFIN','TIMECOM','ASIAFLE','GASMSIA',\n",
    "              'PTARAS','KOSSAN','ZHULIAN','MFCB','YSPSAH',\n",
    "              'SUNWAY','MAXIS','IGBREIT','SUNREIT','CANONE',\n",
    "              'YTLPOWER','AME','SOP','KAWAN','HARBOUR',\n",
    "              'AXREIT','HAPSENG','COASTAL','ATRIUM','DIALOG',\n",
    "              'HARTA','YINSON','LYSAGHT','MI','AHEALTH',\n",
    "              'SURIA','SWKPLNT','MASTER','UOADEV','IJM',\n",
    "              'DAYANG']\n",
    "\n",
    "def create_symbol_mapping(yfinance, mt5_symbol):\n",
    "    # Check for duplicates\n",
    "    duplicates_yfinance = set([symbol for symbol in yfinance if yfinance.count(symbol) > 1])\n",
    "    if duplicates_yfinance:\n",
    "        print(f\"Duplicate symbols found in yfinance: {duplicates_yfinance}\")\n",
    "    duplicates_mt5_symbol = set([symbol for symbol in mt5_symbol if mt5_symbol.count(symbol) > 1])\n",
    "    if duplicates_mt5_symbol:\n",
    "        print(f\"Duplicate symbols found in mt5_symbol: {duplicates_mt5_symbol}\")\n",
    "    if duplicates_yfinance or duplicates_mt5_symbol:\n",
    "        raise ValueError(\"Duplicate symbols found. Please remove duplicates before creating a mapping.\")\n",
    "    symbol_map = dict(zip(yfinance, mt5_symbol))\n",
    "    return symbol_map\n",
    "\n",
    "try:\n",
    "    symbol_mapping = create_symbol_mapping(yfinance, mt5_symbol)\n",
    "except ValueError as e:\n",
    "    print(e)\n",
    "\n",
    "def invert_mapping(mapping):\n",
    "    return {v: k for k, v in mapping.items()}"
   ]
  },
  {
   "cell_type": "code",
   "execution_count": 30,
   "metadata": {},
   "outputs": [
    {
     "name": "stdout",
     "output_type": "stream",
     "text": [
      "['AXREIT', 'MAXIS', 'ABMB', 'LYSAGHT', 'HARBOUR', 'DIALOG', 'SHL', 'YOCB', 'VSTECS', 'GASMSIA', 'AHEALTH', 'SWKPLNT', 'IJM']\n"
     ]
    }
   ],
   "source": [
    "given_yfinance = ['5106.KL', '6012.KL', '2488.KL', '9199.KL', '2062.KL', \n",
    "                  '7277.KL', '6017.KL', '5159.KL', '5162.KL', '5209.KL', \n",
    "                  '7090.KL', '5135.KL', '3336.KL']\n",
    "mt5_symbols_for_given_yfinance = [symbol_mapping[symbol] for symbol in given_yfinance if symbol in symbol_mapping]\n",
    "print(mt5_symbols_for_given_yfinance)"
   ]
  },
  {
   "cell_type": "code",
   "execution_count": 29,
   "metadata": {},
   "outputs": [
    {
     "name": "stdout",
     "output_type": "stream",
     "text": [
      "['5106.KL', '6012.KL', '2488.KL', '9199.KL', '2062.KL', '7277.KL', '6017.KL', '5159.KL', '5162.KL', '5209.KL', '7090.KL', '5135.KL', '3336.KL']\n"
     ]
    }
   ],
   "source": [
    "given_mt5 = ['AXREIT','MAXIS','ABMB','LYSAGHT','HARBOUR',\n",
    "             'DIALOG','SHL','YOCB','VSTECS','GASMSIA',\n",
    "             'AHEALTH','SWKPLNT','IJM']\n",
    "inverted_symbol_mapping = invert_mapping(symbol_mapping)\n",
    "yfinance_symbols_for_given_mt5 = [inverted_symbol_mapping[symbol] for symbol in given_mt5 if symbol in inverted_symbol_mapping]\n",
    "print(yfinance_symbols_for_given_mt5)"
   ]
  },
  {
   "cell_type": "code",
   "execution_count": null,
   "metadata": {},
   "outputs": [],
   "source": []
  },
  {
   "cell_type": "code",
   "execution_count": null,
   "metadata": {},
   "outputs": [],
   "source": []
  }
 ],
 "metadata": {
  "kernelspec": {
   "display_name": ".venv",
   "language": "python",
   "name": "python3"
  },
  "language_info": {
   "codemirror_mode": {
    "name": "ipython",
    "version": 3
   },
   "file_extension": ".py",
   "mimetype": "text/x-python",
   "name": "python",
   "nbconvert_exporter": "python",
   "pygments_lexer": "ipython3",
   "version": "3.10.11"
  }
 },
 "nbformat": 4,
 "nbformat_minor": 2
}
