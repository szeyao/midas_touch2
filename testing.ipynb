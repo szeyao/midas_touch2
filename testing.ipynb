{
 "cells": [
  {
   "cell_type": "code",
   "execution_count": 2,
   "metadata": {},
   "outputs": [
    {
     "name": "stdout",
     "output_type": "stream",
     "text": [
      "MT5 successfully initialised.\n",
      "\n"
     ]
    }
   ],
   "source": [
    "import os\n",
    "import midas_touch2 as mt2\n",
    "import pandas as pd\n",
    "import numpy as np\n",
    "import MetaTrader5 as mt5\n",
    "import matplotlib.pyplot as plt\n",
    "import stock_mapping as sm\n",
    "import warnings\n",
    "import asyncio\n",
    "import twap\n",
    "import time\n",
    "from datetime import datetime, timedelta\n",
    "from class_mapping import StockSymbolMapper\n",
    "pd.options.display.max_columns = 100000\n",
    "warnings.filterwarnings('ignore')\n",
    "\n",
    "if not mt5.initialize():\n",
    "    print(\"initialize() failed\")\n",
    "else:\n",
    "    print(\"MT5 successfully initialised.\\n\")"
   ]
  },
  {
   "cell_type": "code",
   "execution_count": 3,
   "metadata": {},
   "outputs": [
    {
     "name": "stdout",
     "output_type": "stream",
     "text": [
      "(BookInfo(type=1, price=5.88, volume=27500, volume_dbl=27500.0), BookInfo(type=1, price=5.87, volume=38500, volume_dbl=38500.0), BookInfo(type=1, price=5.86, volume=85600, volume_dbl=85600.0), BookInfo(type=1, price=5.85, volume=123300, volume_dbl=123300.0), BookInfo(type=1, price=5.84, volume=74100, volume_dbl=74100.0), BookInfo(type=2, price=5.83, volume=100400, volume_dbl=100400.0), BookInfo(type=2, price=5.82, volume=78800, volume_dbl=78800.0), BookInfo(type=2, price=5.8100000000000005, volume=104500, volume_dbl=104500.0), BookInfo(type=2, price=5.8, volume=181500, volume_dbl=181500.0), BookInfo(type=2, price=5.79, volume=107400, volume_dbl=107400.0))\n"
     ]
    }
   ],
   "source": [
    "mt5.market_book_add('CIMB')\n",
    "add = mt5.market_book_get('CIMB')\n",
    "print(add)"
   ]
  },
  {
   "cell_type": "code",
   "execution_count": null,
   "metadata": {},
   "outputs": [],
   "source": [
    "yf_symbols =['5227.KL','5176.KL','5212.KL','5106.KL','5110.KL','5307.KL',\n",
    "            '6947.KL','6012.KL','1155.KL','1295.KL','1066.KL','1015.KL','6888.KL',\n",
    "            '1818.KL','2488.KL','5185.KL','5258.KL','6139.KL','9296.KL','1082.KL',\n",
    "            '6459.KL','3034.KL','5273.KL','4731.KL','7172.KL','5284.KL','9822.KL',\n",
    "            '3476.KL','7100.KL','2852.KL','7095.KL','4758.KL','5302.KL','0151.KL',\n",
    "            '7233.KL','5271.KL','5916.KL','0215.KL','1368.KL','5000.KL','7231.KL',\n",
    "            '7034.KL','8907.KL','6556.KL','7245.KL','6971.KL','0223.KL','7195.KL',\n",
    "            '8052.KL','7609.KL','7222.KL','5673.KL','7229.KL','0099.KL','7133.KL',\n",
    "            '5568.KL','5192.KL','7029.KL','7197.KL','7004.KL','3816.KL','5014.KL',\n",
    "            '5246.KL','6521.KL','2062.KL','7293.KL','5199.KL','5141.KL','3042.KL',\n",
    "            '5071.KL','4324.KL','5132.KL','5249.KL','5200.KL','8206.KL','5401.KL',\n",
    "            '3158.KL','5053.KL','5236.KL','5038.KL','6114.KL','7249.KL','3182.KL',\n",
    "            '4715.KL','5296.KL','7084.KL','4588.KL','4006.KL','5248.KL','3301.KL',\n",
    "            '4162.KL','1619.KL','5102.KL','7052.KL','5306.KL','8532.KL','3859.KL',\n",
    "            '6599.KL','5983.KL','5517.KL','7237.KL','0186.KL','5202.KL','7087.KL',\n",
    "            '5908.KL','9172.KL','7216.KL','7103.KL','6432.KL','7252.KL','9288.KL',\n",
    "            '7107.KL','7085.KL','7230.KL','0097.KL','0208.KL','5005.KL','0128.KL',\n",
    "            '7204.KL','5292.KL','7160.KL','5301.KL','5309.KL','5286.KL','0146.KL',\n",
    "            '7022.KL','5347.KL','6742.KL','4677.KL','5209.KL','3069.KL','5168.KL',\n",
    "            '5878.KL','7153.KL','7090.KL','7148.KL','0001.KL','1961.KL','5222.KL',\n",
    "            '2291.KL','5254.KL','5126.KL','5027.KL','5138.KL','5012.KL','9059.KL',\n",
    "            '6262.KL','3336.KL','5211.KL','7161.KL','5293.KL']\n",
    "file_path = r'C:\\Users\\jeffnsy\\Desktop\\Python codes\\midas_touch2\\stock_mapping.xlsx'\n",
    "mt5_symbol = sm.get_ticker_list(yf_symbols, file_path=file_path)\n",
    "print(mt5_symbol)"
   ]
  },
  {
   "cell_type": "code",
   "execution_count": null,
   "metadata": {},
   "outputs": [],
   "source": [
    "yf_symbols = [\"1082.KL\",\"1295.KL\",\"5306.KL\",\"1155.KL\",\"5202.KL\",\"5168.KL\"]#'7195.KL',\n",
    "symbols = [symbol + \"SE\" for symbol in yf_symbols]\n",
    "api_token = \"65090d11a67b45.83965572\"\n",
    "data = mt2.download_stocks(symbols, \"d\", api_token, num_days=20)\n",
    "price_df = pd.DataFrame(data)\n",
    "#rename columns\n",
    "mapping_file_path = \"C:/Users/jeffnsy/Desktop/Python codes/midas_touch2/stock_mapping.xlsx\"\n",
    "mt5_symbol = sm.get_ticker_list(yf_symbols, file_path=mapping_file_path)\n",
    "price_df.columns = mt5_symbol\n",
    "#price_df.columns = yf_symbols\n",
    "weights_df, latest_weights = mt2.run_portfolio(price_df, alpha_n=5)\n",
    "price_df.tail()"
   ]
  },
  {
   "cell_type": "code",
   "execution_count": null,
   "metadata": {},
   "outputs": [],
   "source": [
    "###dummy weights to test\n",
    "import random\n",
    "def generate_random_series(tickers, seed=None):\n",
    "    if seed is not None:\n",
    "        random.seed(seed)\n",
    "    random_values = [random.random() for _ in tickers]\n",
    "    total = sum(random_values)\n",
    "    normalized_values = [value / total for value in random_values]\n",
    "    return pd.Series(normalized_values, index=tickers)\n",
    "latest_weights = generate_random_series(mt5_symbol)\n",
    "latest_weights"
   ]
  },
  {
   "cell_type": "code",
   "execution_count": null,
   "metadata": {},
   "outputs": [],
   "source": []
  },
  {
   "cell_type": "code",
   "execution_count": null,
   "metadata": {},
   "outputs": [],
   "source": [
    "total_investment = 100000 #TRY 15K 10K 5K\n",
    "previous_allocation_df = mt2.get_folder(folder_name='daily_allocation')\n",
    "previous_portfolio_df = mt2.get_folder(folder_name='daily_portfolio')\n",
    "if previous_allocation_df is not None and previous_portfolio_df is not None:\n",
    "    # Process the existing CSV data\n",
    "    prev_holding = previous_allocation_df['Holding Units']\n",
    "    prev_entry = previous_allocation_df['Entry Units']\n",
    "    prev_exit = previous_allocation_df['Exit Units']\n",
    "    total_investment = abs(previous_portfolio_df['Total Value'].iloc[-1])\n",
    "    allocation_df = mt2.calculate_stock_allocation(total_investment, latest_weights, price_df)\n",
    "    allocation_df['Holding Units'] = prev_holding + prev_entry - prev_exit\n",
    "else: #first run\n",
    "    allocation_df = mt2.calculate_stock_allocation(total_investment, latest_weights, price_df)\n",
    "    # Handle the initial run scenario\n",
    "    print(\"This is the initial run. No previous allocation data available.\")\n",
    "    allocation_df['Holding Units'] = 0\n",
    "\n",
    "# Calculate Entry and Exit Units\n",
    "allocation_df['Entry Units'] = allocation_df.apply(\n",
    "    lambda row: max(row['Allocated Units'] - row['Holding Units'], 0), axis=1\n",
    ")\n",
    "allocation_df['Exit Units'] = allocation_df.apply(\n",
    "    lambda row: max(row['Holding Units'] - row['Allocated Units'], 0), axis=1\n",
    ")\n",
    "numeric_cols = allocation_df.select_dtypes(include=['number']).astype(float)\n",
    "\n",
    "for col in numeric_cols.columns:\n",
    "    allocation_df[col] = numeric_cols[col]\n",
    "\n",
    "########################---async start here---#########################\n",
    "print(allocation_df)\n",
    "order_ids = mt2.execute_trades_from_data(allocation_df)\n",
    "time.sleep(5)\n",
    "orders_list = [mt2.check_order_status(order_id) for order_id in order_ids]\n",
    "print(f'orders_list: {orders_list}')\n",
    "deleted_volumes = mt2.delete_orders(orders_list)\n",
    "print(f'deleted_volumes: {deleted_volumes}')\n",
    "########################---end here----#################################\n",
    "for order in deleted_volumes:\n",
    "    symbol = order['symbol']\n",
    "    volume_filled = order['volume_filled']\n",
    "    if order['direction'] == mt5.ORDER_TYPE_BUY_LIMIT:\n",
    "        allocation_df.loc[allocation_df['Share Symbol'] == symbol, 'Entry Units'] = volume_filled\n",
    "    else: \n",
    "        allocation_df.loc[allocation_df['Share Symbol'] == symbol, 'Exit Units'] = volume_filled\n",
    "\n",
    "    #allocation_df.loc[allocation_df['Share Symbol'] == symbol, 'Allocated Units'] = volume_filled\n",
    "# async def execute_and_monitor(allocation_df, timeout=60):\n",
    "#     print(allocation_df)\n",
    "#     order_ids = mt2.execute_trades_from_data(allocation_df)\n",
    "#     print(f'Waiting for {timeout/60} minutes..')\n",
    "#     await asyncio.sleep(timeout)\n",
    "#     orders_list = [mt2.check_order_status(order_id) for order_id in order_ids]  # Renamed from orders_list\n",
    "#     print(f'orders_list: {orders_list}')\n",
    "#     resubmitted_orders = mt2.delete_and_resubmit_orders(orders_list)  # Renamed from resubmitted_orders\n",
    "#     print(f'resubmitted_orders: {resubmitted_orders}')\n",
    "#     return orders_list, resubmitted_orders  # Return the renamed variables\n",
    "\n",
    "# # Execute the async function and capture the returned values with the new variable names\n",
    "# orders_list, resubmitted_orders = asyncio.run(execute_and_monitor(allocation_df, timeout=90))\n",
    "\n",
    "# Calculate the portfolio value\n",
    "entry_unit = allocation_df['Entry Units']\n",
    "exit_unit = allocation_df['Exit Units']\n",
    "share_price = allocation_df['Share Price']\n",
    "allocated_unit = allocation_df['Allocated Units']\n",
    "if previous_allocation_df is not None and previous_portfolio_df is not None: #2nd run onwards\n",
    "    starting_cash = previous_portfolio_df['Cash Value'].iloc[-1]\n",
    "    current_share_value = ((entry_unit*share_price)-(exit_unit*share_price)).sum()\n",
    "    current_share_value += previous_portfolio_df['Portfolio Value'].iloc[-1]\n",
    "\n",
    "else: #first run\n",
    "    starting_cash = total_investment\n",
    "    current_share_value = (entry_unit*share_price).sum()\n",
    "\n",
    "portfolio_df = mt2.compile_portfolio_data(allocation_df, starting_cash, current_share_value)\n",
    "\n",
    "mt2.save_df_to_csv(portfolio_df, \n",
    "                   folder_name='daily_portfolio', \n",
    "                   file_name='balance',\n",
    "                   append=True)\n",
    "mt2.save_df_to_csv(allocation_df, \n",
    "                   folder_name='daily_allocation', \n",
    "                   file_name='allocation')\n"
   ]
  },
  {
   "cell_type": "code",
   "execution_count": null,
   "metadata": {},
   "outputs": [],
   "source": [
    "deleted_volumes"
   ]
  },
  {
   "cell_type": "code",
   "execution_count": null,
   "metadata": {},
   "outputs": [],
   "source": [
    "print(f'starting_cash: {starting_cash}')\n",
    "print(f'current_share_value: {current_share_value}')"
   ]
  },
  {
   "cell_type": "code",
   "execution_count": null,
   "metadata": {},
   "outputs": [],
   "source": [
    "portfolio_df"
   ]
  },
  {
   "cell_type": "code",
   "execution_count": null,
   "metadata": {},
   "outputs": [],
   "source": [
    "allocation_df"
   ]
  },
  {
   "cell_type": "code",
   "execution_count": null,
   "metadata": {},
   "outputs": [],
   "source": []
  },
  {
   "cell_type": "code",
   "execution_count": null,
   "metadata": {},
   "outputs": [],
   "source": []
  },
  {
   "cell_type": "code",
   "execution_count": null,
   "metadata": {},
   "outputs": [],
   "source": []
  },
  {
   "cell_type": "code",
   "execution_count": null,
   "metadata": {},
   "outputs": [],
   "source": [
    "price_df"
   ]
  },
  {
   "cell_type": "code",
   "execution_count": null,
   "metadata": {},
   "outputs": [],
   "source": []
  }
 ],
 "metadata": {
  "kernelspec": {
   "display_name": ".venv",
   "language": "python",
   "name": "python3"
  },
  "language_info": {
   "codemirror_mode": {
    "name": "ipython",
    "version": 3
   },
   "file_extension": ".py",
   "mimetype": "text/x-python",
   "name": "python",
   "nbconvert_exporter": "python",
   "pygments_lexer": "ipython3",
   "version": "3.10.11"
  }
 },
 "nbformat": 4,
 "nbformat_minor": 2
}
